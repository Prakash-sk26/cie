{
  "nbformat": 4,
  "nbformat_minor": 0,
  "metadata": {
    "colab": {
      "provenance": [],
      "authorship_tag": "ABX9TyOC82kPa4sjhHPU5kkvIK8/",
      "include_colab_link": true
    },
    "kernelspec": {
      "name": "python3",
      "display_name": "Python 3"
    },
    "language_info": {
      "name": "python"
    }
  },
  "cells": [
    {
      "cell_type": "markdown",
      "metadata": {
        "id": "view-in-github",
        "colab_type": "text"
      },
      "source": [
        "<a href=\"https://colab.research.google.com/github/Prakash-sk26/cie/blob/main/cie_5.ipynb\" target=\"_parent\"><img src=\"https://colab.research.google.com/assets/colab-badge.svg\" alt=\"Open In Colab\"/></a>"
      ]
    },
    {
      "cell_type": "code",
      "execution_count": 2,
      "metadata": {
        "colab": {
          "base_uri": "https://localhost:8080/"
        },
        "id": "isUAygl8i-s4",
        "outputId": "e80fb598-8275-4171-8540-b53fb4c9d7e8"
      },
      "outputs": [
        {
          "output_type": "stream",
          "name": "stdout",
          "text": [
            "Bigrams\n",
            "[(AI, is), (is, simulation), (simulation, of), (of, human), (human, intelligence), (intelligence, by), (by, machine), (machine, .), (., It), (It, includes), (includes, expects), (expects, system), (system, NLP), (NLP, speech), (speech, recognition), (recognition, and), (and, machine), (machine, vision)]\n"
          ]
        }
      ],
      "source": [
        "import spacy\n",
        "from nltk import ngrams\n",
        "nlp=spacy.load(\"en_core_web_sm\")\n",
        "doc=nlp(\"AI is simulation of human intelligence by machine. It includes expects system NLP speech recognition and machine vision\")\n",
        "bigrams=ngrams(doc,2)\n",
        "print('Bigrams')\n",
        "print(list(bigrams))"
      ]
    },
    {
      "cell_type": "code",
      "source": [
        "import spacy\n",
        "from nltk import ngrams\n",
        "nlp=spacy.load(\"en_core_web_sm\")\n",
        "doc=nlp(\"AI is simulation of human intelligence by machine. It includes expects system NLP speech recognition and machine vision\")\n",
        "trigrams=ngrams(doc,3)\n",
        "print('Trigrams')\n",
        "print(list(trigrams))"
      ],
      "metadata": {
        "colab": {
          "base_uri": "https://localhost:8080/"
        },
        "id": "WUEwIu34jNnn",
        "outputId": "979652ad-3ddf-4426-be3b-80d8fe82fc1b"
      },
      "execution_count": 3,
      "outputs": [
        {
          "output_type": "stream",
          "name": "stdout",
          "text": [
            "Trigrams\n",
            "[(AI, is, simulation), (is, simulation, of), (simulation, of, human), (of, human, intelligence), (human, intelligence, by), (intelligence, by, machine), (by, machine, .), (machine, ., It), (., It, includes), (It, includes, expects), (includes, expects, system), (expects, system, NLP), (system, NLP, speech), (NLP, speech, recognition), (speech, recognition, and), (recognition, and, machine), (and, machine, vision)]\n"
          ]
        }
      ]
    }
  ]
}